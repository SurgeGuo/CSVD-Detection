{
 "cells": [
  {
   "cell_type": "code",
   "execution_count": null,
   "metadata": {},
   "outputs": [],
   "source": [
    "import os\n",
    "import pandas as pd\n",
    "import common_f as cf\n",
    "\n",
    "import warnings\n",
    "warnings.filterwarnings(\"ignore\", message=\".*The 'nopython' keyword.*\")\n",
    "\n",
    "random_seed = 923\n",
    "\n",
    "current_path = os.getcwd()\n",
    "filePath = current_path + '/Data/liuzhi_preprocessed_raw_data.csv'\n",
    "csvPath = os.path.abspath(os.path.join(filePath, \"..\"))\n",
    "data = pd.read_csv(filePath, encoding = 'utf-8')\n",
    "print(data.shape, \"\\n\", data.columns)"
   ]
  },
  {
   "cell_type": "code",
   "execution_count": null,
   "metadata": {},
   "outputs": [],
   "source": [
    "columns_to_drop = ['Pulse',\n",
    "                   'Lipoprotein(a) (LP(a))', \n",
    "                   'Apolipoprotein B (ApoB)',\n",
    "                   'Salty or mild taste preferences',\n",
    "                   'Frequency of vegetable consumption',\n",
    "                   'Frequency of fruit consumption',\n",
    "                   'Mental stress',\n",
    "                   'Frequency of getting angry',\n",
    "                   'Emotions causing physical discomfort',\n",
    "                   'History of cerebrovascular disease',\n",
    "                   'History of hypertension',\n",
    "                   'History of diabetes',\n",
    "                   'History of dyslipidemia',\n",
    "                   'History of cardiac',\n",
    "                   'Family history of stroke',\n",
    "                   'Family history of coronary artery disease',\n",
    "                   'Family history of hypertension',\n",
    "                   'Family history of diabetes',\n",
    "                   'Stroke risk status',\n",
    "                   'image_quality'\n",
    "                   ]\n",
    "\n",
    "\n",
    "multi_catog_variables = [\"Carnivorous or vegetarian preferences\"]\n",
    "\n",
    "data = data.rename(columns={'Body mass index (BMI)' : 'BMI',\n",
    "                            'Abdominal circumference (AC)' : 'WC',\n",
    "                            'Systolic blood pressure (SBP)' : 'SBP',\n",
    "                            'Diastolic blood pressure (DBP)' : 'DBP',\n",
    "                            'Low-density lipoprotein cholesterol (LDL-C)' : 'LDL-C',\n",
    "                            'Triglyceride (TG)' : 'TG',\n",
    "                            'High-density lipoprotein cholesterol (HDL-C)' : 'HDL-C',\n",
    "                            'Total cholesterol (TC)' : 'TC',\n",
    "                            'Non-high-density lipoprotein cholesterol (Non-HDL-C)' : 'Non-HDL-C',\n",
    "                            'Fasting blood glucose (FBG)' : 'FBG',\n",
    "                            'Triglyceride-glucose index (TyG Index)' : 'TyG Index',\n",
    "                            'Uric acid (UA)' : 'UA',\n",
    "                            'Creatinine (Cr)' : 'Cr',\n",
    "                            'Estimated glomerular filtration rate (eGFR)' : 'eGFR',\n",
    "                            'Homocysteine (Hcy)' : 'Hcy',\n",
    "                            'Hemoglobin A1c (HbA1c)' : 'HbA1c'\n",
    "                            })\n",
    "\n",
    "data = data[data['image_quality'] != 1]\n",
    "data.reset_index(drop = True, inplace=  True)\n",
    "data.drop(columns = columns_to_drop, inplace = True)\n",
    "data.to_csv(os.path.join(csvPath, 'CSVD_DataSet.csv'),\n",
    "            encoding = 'utf-8', index = None)\n",
    "print(data.shape, \"\\n\", data.columns, data.dtypes)"
   ]
  },
  {
   "cell_type": "code",
   "execution_count": null,
   "metadata": {},
   "outputs": [],
   "source": [
    "outcome = \"Cerebral small vessel disease\"\n",
    "\n",
    "try:\n",
    "    X_train, X_test, y_train, y_test = cf.prepare_data(csvPath,\n",
    "                                                       data,\n",
    "                                                       outcome = outcome,\n",
    "                                                       isOverSample = True,\n",
    "                                                       oneHotCols = multi_catog_variables,\n",
    "                                                       test_ratio = 0.2,\n",
    "                                                       show_heatmap = True,\n",
    "                                                       show_details = True,\n",
    "                                                       random_seed = random_seed)\n",
    "except ValueError as e:\n",
    "    print(\"Error:\", e)"
   ]
  }
 ],
 "metadata": {
  "kernelspec": {
   "display_name": "sklearn_env",
   "language": "python",
   "name": "python3"
  },
  "language_info": {
   "codemirror_mode": {
    "name": "ipython",
    "version": 3
   },
   "file_extension": ".py",
   "mimetype": "text/x-python",
   "name": "python",
   "nbconvert_exporter": "python",
   "pygments_lexer": "ipython3",
   "version": "3.10.14"
  },
  "orig_nbformat": 4
 },
 "nbformat": 4,
 "nbformat_minor": 2
}
